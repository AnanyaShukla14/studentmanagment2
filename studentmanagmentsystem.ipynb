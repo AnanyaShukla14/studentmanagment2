{
 "cells": [
  {
   "cell_type": "markdown",
   "id": "30cb44ac-6a05-4151-b6b2-a37299c350a1",
   "metadata": {},
   "source": [
    "# Student Managment System\n"
   ]
  },
  {
   "cell_type": "code",
   "execution_count": 12,
   "id": "dd349f68-cbfe-4b87-8881-4653c39774e9",
   "metadata": {},
   "outputs": [
    {
     "name": "stdout",
     "output_type": "stream",
     "text": [
      "--------------------------------------------\n",
      "Stusent Managment System\n",
      "--------------------------------------------\n",
      "1.Add student\n",
      "2.List of students\n",
      "3.Search\n",
      "4.Delete\n",
      "5.Exit\n",
      "--------------------------------------------\n"
     ]
    },
    {
     "name": "stdin",
     "output_type": "stream",
     "text": [
      "Enter your choice 1\n",
      "Enter rollno. 101\n",
      "Enter name. ananya\n",
      "Enter Branch DS\n",
      "Enter semester VI\n"
     ]
    },
    {
     "name": "stdout",
     "output_type": "stream",
     "text": [
      "Student Added....\n",
      "--------------------------------------------\n",
      "Stusent Managment System\n",
      "--------------------------------------------\n",
      "1.Add student\n",
      "2.List of students\n",
      "3.Search\n",
      "4.Delete\n",
      "5.Exit\n",
      "--------------------------------------------\n"
     ]
    },
    {
     "name": "stdin",
     "output_type": "stream",
     "text": [
      "Enter your choice 1\n",
      "Enter rollno. 102\n",
      "Enter name. eureka\n",
      "Enter Branch CS\n",
      "Enter semester VI\n"
     ]
    },
    {
     "name": "stdout",
     "output_type": "stream",
     "text": [
      "Student Added....\n",
      "--------------------------------------------\n",
      "Stusent Managment System\n",
      "--------------------------------------------\n",
      "1.Add student\n",
      "2.List of students\n",
      "3.Search\n",
      "4.Delete\n",
      "5.Exit\n",
      "--------------------------------------------\n"
     ]
    },
    {
     "name": "stdin",
     "output_type": "stream",
     "text": [
      "Enter your choice 1\n",
      "Enter rollno. 103\n",
      "Enter name. Ayu\n",
      "Enter Branch IT\n",
      "Enter semester I\n"
     ]
    },
    {
     "name": "stdout",
     "output_type": "stream",
     "text": [
      "Student Added....\n",
      "--------------------------------------------\n",
      "Stusent Managment System\n",
      "--------------------------------------------\n",
      "1.Add student\n",
      "2.List of students\n",
      "3.Search\n",
      "4.Delete\n",
      "5.Exit\n",
      "--------------------------------------------\n"
     ]
    },
    {
     "name": "stdin",
     "output_type": "stream",
     "text": [
      "Enter your choice 3\n",
      "Enter RollNo of the student to Search 101\n"
     ]
    },
    {
     "name": "stdout",
     "output_type": "stream",
     "text": [
      "Rollno   : 101\n",
      "Name     : ananya\n",
      "Branch   : DS\n",
      "Semester : VI\n",
      "--------------------------\n",
      "--------------------------------------------\n",
      "Stusent Managment System\n",
      "--------------------------------------------\n",
      "1.Add student\n",
      "2.List of students\n",
      "3.Search\n",
      "4.Delete\n",
      "5.Exit\n",
      "--------------------------------------------\n"
     ]
    },
    {
     "name": "stdin",
     "output_type": "stream",
     "text": [
      "Enter your choice 4\n",
      "Enter Rollno to delete student data 103\n"
     ]
    },
    {
     "name": "stdout",
     "output_type": "stream",
     "text": [
      "Student is Removed......\n",
      "--------------------------------------------\n",
      "Stusent Managment System\n",
      "--------------------------------------------\n",
      "1.Add student\n",
      "2.List of students\n",
      "3.Search\n",
      "4.Delete\n",
      "5.Exit\n",
      "--------------------------------------------\n"
     ]
    },
    {
     "name": "stdin",
     "output_type": "stream",
     "text": [
      "Enter your choice 4\n",
      "Enter Rollno to delete student data 105\n"
     ]
    },
    {
     "name": "stdout",
     "output_type": "stream",
     "text": [
      "Student Not Found......\n",
      "--------------------------------------------\n",
      "Stusent Managment System\n",
      "--------------------------------------------\n",
      "1.Add student\n",
      "2.List of students\n",
      "3.Search\n",
      "4.Delete\n",
      "5.Exit\n",
      "--------------------------------------------\n"
     ]
    },
    {
     "name": "stdin",
     "output_type": "stream",
     "text": [
      "Enter your choice 5\n"
     ]
    }
   ],
   "source": [
    "class Students:\n",
    "    def __init__(self,rollno,name,branch,semester):\n",
    "        self.rollno=rollno\n",
    "        self.name=name\n",
    "        self.branch=branch\n",
    "        self.semester=semester\n",
    "\n",
    "    def showdata(self):\n",
    "        print(\"Rollno   :\",self.rollno)\n",
    "        print(\"Name     :\",self.name)\n",
    "        print(\"Branch   :\",self.branch)\n",
    "        print(\"Semester :\",self.semester)\n",
    "        print(\"--------------------------\")\n",
    "studentlist=[]\n",
    "choice=0\n",
    "while choice!=5:\n",
    "    print(\"--------------------------------------------\")\n",
    "    print(\"Stusent Managment System\")\n",
    "    print(\"--------------------------------------------\")\n",
    "    print(\"1.Add student\")\n",
    "    print(\"2.List of students\")\n",
    "    print(\"3.Search\")\n",
    "    print(\"4.Delete\")\n",
    "    print(\"5.Exit\")\n",
    "    print(\"--------------------------------------------\")\n",
    "    choice = int(input(\"Enter your choice\"))\n",
    "    match choice :\n",
    "        case 1:\n",
    "            rollno=input(\"Enter rollno.\")\n",
    "            name=input(\"Enter name.\")\n",
    "            branch=input(\"Enter Branch\")\n",
    "            semester= input(\"Enter semester\")\n",
    "            studobj=Students(rollno,name,branch,semester)\n",
    "            studentlist.append(studobj)\n",
    "            print(\"Student Added....\")\n",
    "\n",
    "        case 2:\n",
    "            for item in studentlist:\n",
    "                item.showdata()\n",
    "\n",
    "        case 3:\n",
    "            rollno=input(\"Enter RollNo of the student to Search\")\n",
    "            for item in studentlist:\n",
    "                if item.rollno == rollno:\n",
    "                    item.showdata()\n",
    "                    break\n",
    "            else:\n",
    "                print(\"Student Not Found....\")\n",
    "\n",
    "        case 4:\n",
    "            rollno= input(\"Enter Rollno to delete student data\")\n",
    "            for i in range(len(studentlist)):           \n",
    "                if studentlist[i].rollno==rollno:\n",
    "                    studentlist.pop(i)\n",
    "                    print(\"Student is Removed......\")\n",
    "                    break\n",
    "            else:\n",
    "                print(\"Student Not Found......\")"
   ]
  },
  {
   "cell_type": "code",
   "execution_count": null,
   "id": "587ff01c-ce0a-463a-a0f3-c634b3d15ae0",
   "metadata": {},
   "outputs": [],
   "source": [
    "\n"
   ]
  },
  {
   "cell_type": "code",
   "execution_count": null,
   "id": "b8685cdb-32ea-4252-93c8-f70d2fb59975",
   "metadata": {},
   "outputs": [],
   "source": []
  },
  {
   "cell_type": "code",
   "execution_count": null,
   "id": "53f3ef0e-4b47-4de5-8256-1d59939455f9",
   "metadata": {},
   "outputs": [],
   "source": []
  },
  {
   "cell_type": "code",
   "execution_count": null,
   "id": "f8c07b50-92da-4754-be84-0d7253b1eb9f",
   "metadata": {},
   "outputs": [],
   "source": []
  }
 ],
 "metadata": {
  "kernelspec": {
   "display_name": "Python 3 (ipykernel)",
   "language": "python",
   "name": "python3"
  },
  "language_info": {
   "codemirror_mode": {
    "name": "ipython",
    "version": 3
   },
   "file_extension": ".py",
   "mimetype": "text/x-python",
   "name": "python",
   "nbconvert_exporter": "python",
   "pygments_lexer": "ipython3",
   "version": "3.11.7"
  }
 },
 "nbformat": 4,
 "nbformat_minor": 5
}
